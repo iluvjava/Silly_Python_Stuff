{
 "cells": [
  {
   "cell_type": "code",
   "execution_count": null,
   "metadata": {
    "cellView": "form",
    "colab": {},
    "colab_type": "code",
    "id": "wDlWLbfkJtvu"
   },
   "outputs": [],
   "source": [
    "#@title Copyright 2020 Google LLC. Double-click here for license information.\n",
    "# Licensed under the Apache License, Version 2.0 (the \"License\");\n",
    "# you may not use this file except in compliance with the License.\n",
    "# You may obtain a copy of the License at\n",
    "#\n",
    "# https://www.apache.org/licenses/LICENSE-2.0\n",
    "#\n",
    "# Unless required by applicable law or agreed to in writing, software\n",
    "# distributed under the License is distributed on an \"AS IS\" BASIS,\n",
    "# WITHOUT WARRANTIES OR CONDITIONS OF ANY KIND, either express or implied.\n",
    "# See the License for the specific language governing permissions and\n",
    "# limitations under the License."
   ]
  },
  {
   "cell_type": "markdown",
   "metadata": {
    "colab_type": "text",
    "id": "TL5y5fY9Jy_x"
   },
   "source": [
    "# Simple Linear Regression with Synthetic Data\n",
    "\n",
    "In this first Colab, you'll explore linear regression with a simple database. "
   ]
  },
  {
   "cell_type": "markdown",
   "metadata": {
    "colab_type": "text",
    "id": "DZz29MwGgE2Y"
   },
   "source": [
    "## Learning objectives:\n",
    "\n",
    "After doing this exercise, you'll know how to do the following:\n",
    "\n",
    "  * Run Colabs.\n",
    "  * Tune the following [hyperparameters](https://developers.google.com/machine-learning/glossary/#hyperparameter):\n",
    "    * [learning rate](https://developers.google.com/machine-learning/glossary/#learning_rate)\n",
    "    * number of [epochs](https://developers.google.com/machine-learning/glossary/#epoch)\n",
    "    * [batch size](https://developers.google.com/machine-learning/glossary/#batch_size)\n",
    "  * Interpret different kinds of [loss curves](https://developers.google.com/machine-learning/glossary/#loss_curve)."
   ]
  },
  {
   "cell_type": "markdown",
   "metadata": {
    "colab_type": "text",
    "id": "wm3K3dHlf_1n"
   },
   "source": [
    "## About Colabs\n",
    "\n",
    "Machine Learning Crash Course uses Colaboratories (**Colabs**) for all programming exercises. Colab is Google's implementation of [Jupyter Notebook](https://jupyter.org/). Like all Jupyter Notebooks, a Colab consists of two kinds of components:\n",
    "\n",
    "  * **Text cells**, which contain explanations. You are currently reading a text cell.\n",
    "  * **Code cells**, which contain Python code for you to run. Code cells have a light gray background.\n",
    "\n",
    "You *read* the text cells and *run* the code cells."
   ]
  },
  {
   "cell_type": "markdown",
   "metadata": {
    "colab_type": "text",
    "id": "qc3e5Jbbf5aA"
   },
   "source": [
    "### Running code cells\n",
    "\n",
    "You must run code cells in order. In other words, you may only run a code cell once all the code cells preceding it have already been run. \n",
    "\n",
    "To run a code cell:\n",
    "\n",
    "  1. Place the cursor anywhere inside the [ ] area at the top left of a code cell. The area inside the [ ] will display an arrow.\n",
    "  2. Click the arrow.\n",
    "\n",
    "Alternatively, you may invoke **Runtime->Run all**. Note, though, that some of the code cells will fail because not all the coding is complete. (You'll complete the coding as part of the exercise.)"
   ]
  },
  {
   "cell_type": "markdown",
   "metadata": {
    "colab_type": "text",
    "id": "Sa35idJHf0__"
   },
   "source": [
    "### Understanding hidden code cells\n",
    "\n",
    "We've **hidden** the code in code cells that don't advance the learning objectives. For example, we've hidden the code that plots graphs. However, **you must still run code cells containing hidden code**. You'll know that the code is hidden because you'll see a title (for example, \"Load the functions that build and train a model\") without seeing the code.\n",
    "\n",
    "To view the hidden code, just double click the header."
   ]
  },
  {
   "cell_type": "markdown",
   "metadata": {
    "colab_type": "text",
    "id": "8H508dWUfvY1"
   },
   "source": [
    "### Why did you see an error?\n",
    "\n",
    "If a code cell returns an error when you run it, consider two common problems:\n",
    "\n",
    "  * You didn't run *all* of the code cells preceding the current code cell.\n",
    "  * If the code cell is labeled as a **Task**, then you haven't written the necessary code. "
   ]
  },
  {
   "cell_type": "markdown",
   "metadata": {
    "colab_type": "text",
    "id": "bMr7MPVmoiHf"
   },
   "source": [
    "## Use the right version of TensorFlow\n",
    "\n",
    "The following hidden code cell ensures that the Colab will run on TensorFlow 2.X, which is the most recent version of TensorFlow:"
   ]
  },
  {
   "cell_type": "code",
   "execution_count": null,
   "metadata": {
    "cellView": "form",
    "colab": {},
    "colab_type": "code",
    "id": "Z1pOWL7eevO8"
   },
   "outputs": [],
   "source": [
    "#@title Run this Colab on TensorFlow 2.x\n",
    "%tensorflow_version 2.x"
   ]
  },
  {
   "cell_type": "markdown",
   "metadata": {
    "colab_type": "text",
    "id": "xchnxAsaKKqO"
   },
   "source": [
    "## Import relevant modules\n",
    "\n",
    "The following cell imports the packages that the program requires:"
   ]
  },
  {
   "cell_type": "code",
   "execution_count": 1,
   "metadata": {
    "colab": {},
    "colab_type": "code",
    "id": "9n9_cTveKmse"
   },
   "outputs": [],
   "source": [
    "import pandas as pd\n",
    "import tensorflow as tf\n",
    "from matplotlib import pyplot as plt"
   ]
  },
  {
   "cell_type": "markdown",
   "metadata": {
    "colab_type": "text",
    "id": "SIpsyJITPcbG"
   },
   "source": [
    "## Define functions that build and train a model\n",
    "\n",
    "The following code defines two functions:\n",
    "\n",
    "  * `build_model(my_learning_rate)`, which builds an empty model.\n",
    "  * `train_model(model, feature, label, epochs)`, which trains the model from the examples (feature and label) you pass. \n",
    "\n",
    "Since you don't need to understand model building code right now, we've hidden this code cell.  You may optionally double-click the headline to explore this code."
   ]
  },
  {
   "cell_type": "code",
   "execution_count": 2,
   "metadata": {
    "cellView": "form",
    "colab": {},
    "colab_type": "code",
    "id": "xvO_beKVP1Ke"
   },
   "outputs": [
    {
     "name": "stdout",
     "output_type": "stream",
     "text": [
      "Defined create_model and train_model\n"
     ]
    }
   ],
   "source": [
    "#@title Define the functions that build and train a model\n",
    "def build_model(my_learning_rate):\n",
    "  \"\"\"Create and compile a simple linear regression model.\"\"\"\n",
    "  # Most simple tf.keras models are sequential. \n",
    "  # A sequential model contains one or more layers.\n",
    "  model = tf.keras.models.Sequential()\n",
    "\n",
    "  # Describe the topography of the model.\n",
    "  # The topography of a simple linear regression model\n",
    "  # is a single node in a single layer. \n",
    "  model.add(tf.keras.layers.Dense(units=1, \n",
    "                                  input_shape=(1,)))\n",
    "\n",
    "  # Compile the model topography into code that \n",
    "  # TensorFlow can efficiently execute. Configure \n",
    "  # training to minimize the model's mean squared error. \n",
    "  model.compile(optimizer=tf.keras.optimizers.RMSprop(lr=my_learning_rate),\n",
    "                loss=\"mean_squared_error\",\n",
    "                metrics=[tf.keras.metrics.RootMeanSquaredError()])\n",
    "\n",
    "  return model           \n",
    "\n",
    "\n",
    "def train_model(model, feature, label, epochs, batch_size):\n",
    "  \"\"\"Train the model by feeding it data.\"\"\"\n",
    "\n",
    "  # Feed the feature values and the label values to the \n",
    "  # model. The model will train for the specified number \n",
    "  # of epochs, gradually learning how the feature values\n",
    "  # relate to the label values. \n",
    "  history = model.fit(x=feature,\n",
    "                      y=label,\n",
    "                      batch_size=batch_size,\n",
    "                      epochs=epochs)\n",
    "\n",
    "  # Gather the trained model's weight and bias.\n",
    "  trained_weight = model.get_weights()[0]\n",
    "  trained_bias = model.get_weights()[1]\n",
    "\n",
    "  # The list of epochs is stored separately from the \n",
    "  # rest of history.\n",
    "  epochs = history.epoch\n",
    "  \n",
    "  # Gather the history (a snapshot) of each epoch.\n",
    "  hist = pd.DataFrame(history.history)\n",
    "\n",
    "  # Specifically gather the model's root mean \n",
    "  #squared error at each epoch. \n",
    "  rmse = hist[\"root_mean_squared_error\"]\n",
    "\n",
    "  return trained_weight, trained_bias, epochs, rmse\n",
    "\n",
    "print(\"Defined create_model and train_model\")"
   ]
  },
  {
   "cell_type": "markdown",
   "metadata": {
    "colab_type": "text",
    "id": "Ak_TMAzGOIFq"
   },
   "source": [
    "## Define plotting functions\n",
    "\n",
    "We're using a popular Python library called [Matplotlib](https://developers.google.com/machine-learning/glossary/#matplotlib) to create the following two plots:\n",
    "\n",
    "*  a plot of the feature values vs. the label values, and a line showing the output of the trained model.\n",
    "*  a [loss curve](https://developers.google.com/machine-learning/glossary/#loss_curve).\n",
    "\n",
    "We hid the following code cell because learning Matplotlib is not relevant to the learning objectives. Regardless, you must still run all hidden code cells."
   ]
  },
  {
   "cell_type": "code",
   "execution_count": 3,
   "metadata": {
    "cellView": "form",
    "colab": {},
    "colab_type": "code",
    "id": "QF0BFRXTOeR3"
   },
   "outputs": [
    {
     "name": "stdout",
     "output_type": "stream",
     "text": [
      "Defined the plot_the_model and plot_the_loss_curve functions.\n"
     ]
    }
   ],
   "source": [
    "#@title Define the plotting functions\n",
    "def plot_the_model(trained_weight, trained_bias, feature, label):\n",
    "  \"\"\"Plot the trained model against the training feature and label.\"\"\"\n",
    "\n",
    "  # Label the axes.\n",
    "  plt.xlabel(\"feature\")\n",
    "  plt.ylabel(\"label\")\n",
    "\n",
    "  # Plot the feature values vs. label values.\n",
    "  plt.scatter(feature, label)\n",
    "\n",
    "  # Create a red line representing the model. The red line starts\n",
    "  # at coordinates (x0, y0) and ends at coordinates (x1, y1).\n",
    "  x0 = 0\n",
    "  y0 = trained_bias\n",
    "  x1 = my_feature[-1]\n",
    "  y1 = trained_bias + (trained_weight * x1)\n",
    "  plt.plot([x0, x1], [y0, y1], c='r')\n",
    "\n",
    "  # Render the scatter plot and the red line.\n",
    "  plt.show()\n",
    "\n",
    "def plot_the_loss_curve(epochs, rmse):\n",
    "  \"\"\"Plot the loss curve, which shows loss vs. epoch.\"\"\"\n",
    "\n",
    "  plt.figure()\n",
    "  plt.xlabel(\"Epoch\")\n",
    "  plt.ylabel(\"Root Mean Squared Error\")\n",
    "\n",
    "  plt.plot(epochs, rmse, label=\"Loss\")\n",
    "  plt.legend()\n",
    "  plt.ylim([rmse.min()*0.97, rmse.max()])\n",
    "  plt.show()\n",
    "\n",
    "print(\"Defined the plot_the_model and plot_the_loss_curve functions.\")"
   ]
  },
  {
   "cell_type": "markdown",
   "metadata": {
    "colab_type": "text",
    "id": "LVSDPusELEZ5"
   },
   "source": [
    "## Define the dataset\n",
    "\n",
    "The dataset consists of 12 [examples](https://developers.google.com/machine-learning/glossary/#example). Each example consists of one [feature](https://developers.google.com/machine-learning/glossary/#feature) and one [label](https://developers.google.com/machine-learning/glossary/#label).\n"
   ]
  },
  {
   "cell_type": "code",
   "execution_count": 4,
   "metadata": {
    "colab": {},
    "colab_type": "code",
    "id": "rnUSYKw4LUuh"
   },
   "outputs": [],
   "source": [
    "my_feature = ([1.0, 2.0,  3.0,  4.0,  5.0,  6.0,  7.0,  8.0,  9.0, 10.0, 11.0, 12.0])\n",
    "my_label   = ([5.0, 8.8,  9.6, 14.2, 18.8, 19.5, 21.4, 26.8, 28.9, 32.0, 33.8, 38.2])"
   ]
  },
  {
   "cell_type": "markdown",
   "metadata": {
    "colab_type": "text",
    "id": "K24afla-4s2x"
   },
   "source": [
    "## Specify the hyperparameters\n",
    "\n",
    "The hyperparameters in this Colab are as follows:\n",
    "\n",
    "  * [learning rate](https://developers.google.com/machine-learning/glossary/#learning_rate)\n",
    "  * [epochs](https://developers.google.com/machine-learning/glossary/#epoch)\n",
    "  * [batch_size](https://developers.google.com/machine-learning/glossary/#batch_size)\n",
    "\n",
    "The following code cell initializes these hyperparameters and then invokes the functions that build and train the model."
   ]
  },
  {
   "cell_type": "code",
   "execution_count": 11,
   "metadata": {
    "colab": {},
    "colab_type": "code",
    "id": "Ye730h13CQ97"
   },
   "outputs": [
    {
     "name": "stdout",
     "output_type": "stream",
     "text": [
      "Train on 12 samples\n",
      "Epoch 1/100\n",
      "12/12 [==============================] - 0s 33ms/sample - loss: 424.6719 - root_mean_squared_error: 20.6076\n",
      "Epoch 2/100\n",
      "12/12 [==============================] - 0s 583us/sample - loss: 413.9906 - root_mean_squared_error: 20.3468\n",
      "Epoch 3/100\n",
      "12/12 [==============================] - 0s 584us/sample - loss: 406.3733 - root_mean_squared_error: 20.1587\n",
      "Epoch 4/100\n",
      "12/12 [==============================] - 0s 500us/sample - loss: 400.0728 - root_mean_squared_error: 20.0018\n",
      "Epoch 5/100\n",
      "12/12 [==============================] - 0s 417us/sample - loss: 394.5365 - root_mean_squared_error: 19.8629\n",
      "Epoch 6/100\n",
      "12/12 [==============================] - 0s 500us/sample - loss: 389.5084 - root_mean_squared_error: 19.7360\n",
      "Epoch 7/100\n",
      "12/12 [==============================] - 0s 500us/sample - loss: 384.8462 - root_mean_squared_error: 19.6175\n",
      "Epoch 8/100\n",
      "12/12 [==============================] - 0s 583us/sample - loss: 380.4615 - root_mean_squared_error: 19.5054\n",
      "Epoch 9/100\n",
      "12/12 [==============================] - 0s 500us/sample - loss: 376.2950 - root_mean_squared_error: 19.3983\n",
      "Epoch 10/100\n",
      "12/12 [==============================] - 0s 500us/sample - loss: 372.3049 - root_mean_squared_error: 19.2952\n",
      "Epoch 11/100\n",
      "12/12 [==============================] - 0s 500us/sample - loss: 368.4608 - root_mean_squared_error: 19.1953\n",
      "Epoch 12/100\n",
      "12/12 [==============================] - 0s 583us/sample - loss: 364.7393 - root_mean_squared_error: 19.0982\n",
      "Epoch 13/100\n",
      "12/12 [==============================] - 0s 500us/sample - loss: 361.1225 - root_mean_squared_error: 19.0032\n",
      "Epoch 14/100\n",
      "12/12 [==============================] - 0s 583us/sample - loss: 357.5962 - root_mean_squared_error: 18.9102\n",
      "Epoch 15/100\n",
      "12/12 [==============================] - 0s 500us/sample - loss: 354.1487 - root_mean_squared_error: 18.8188\n",
      "Epoch 16/100\n",
      "12/12 [==============================] - 0s 500us/sample - loss: 350.7708 - root_mean_squared_error: 18.7289\n",
      "Epoch 17/100\n",
      "12/12 [==============================] - 0s 500us/sample - loss: 347.4546 - root_mean_squared_error: 18.6401\n",
      "Epoch 18/100\n",
      "12/12 [==============================] - 0s 500us/sample - loss: 344.1937 - root_mean_squared_error: 18.5525\n",
      "Epoch 19/100\n",
      "12/12 [==============================] - 0s 584us/sample - loss: 340.9827 - root_mean_squared_error: 18.4657\n",
      "Epoch 20/100\n",
      "12/12 [==============================] - 0s 500us/sample - loss: 337.8168 - root_mean_squared_error: 18.3798\n",
      "Epoch 21/100\n",
      "12/12 [==============================] - 0s 500us/sample - loss: 334.6923 - root_mean_squared_error: 18.2946\n",
      "Epoch 22/100\n",
      "12/12 [==============================] - 0s 500us/sample - loss: 331.6056 - root_mean_squared_error: 18.2100\n",
      "Epoch 23/100\n",
      "12/12 [==============================] - 0s 583us/sample - loss: 328.5538 - root_mean_squared_error: 18.1261\n",
      "Epoch 24/100\n",
      "12/12 [==============================] - 0s 500us/sample - loss: 325.5344 - root_mean_squared_error: 18.0426\n",
      "Epoch 25/100\n",
      "12/12 [==============================] - 0s 583us/sample - loss: 322.5451 - root_mean_squared_error: 17.9595\n",
      "Epoch 26/100\n",
      "12/12 [==============================] - 0s 500us/sample - loss: 319.5842 - root_mean_squared_error: 17.8769\n",
      "Epoch 27/100\n",
      "12/12 [==============================] - 0s 500us/sample - loss: 316.6497 - root_mean_squared_error: 17.7947\n",
      "Epoch 28/100\n",
      "12/12 [==============================] - 0s 583us/sample - loss: 313.7403 - root_mean_squared_error: 17.7127\n",
      "Epoch 29/100\n",
      "12/12 [==============================] - 0s 500us/sample - loss: 310.8546 - root_mean_squared_error: 17.6311\n",
      "Epoch 30/100\n",
      "12/12 [==============================] - 0s 584us/sample - loss: 307.9915 - root_mean_squared_error: 17.5497\n",
      "Epoch 31/100\n",
      "12/12 [==============================] - 0s 500us/sample - loss: 305.1499 - root_mean_squared_error: 17.4685\n",
      "Epoch 32/100\n",
      "12/12 [==============================] - 0s 500us/sample - loss: 302.3289 - root_mean_squared_error: 17.3876\n",
      "Epoch 33/100\n",
      "12/12 [==============================] - 0s 500us/sample - loss: 299.5279 - root_mean_squared_error: 17.3069\n",
      "Epoch 34/100\n",
      "12/12 [==============================] - 0s 583us/sample - loss: 296.7458 - root_mean_squared_error: 17.2263\n",
      "Epoch 35/100\n",
      "12/12 [==============================] - 0s 500us/sample - loss: 293.9823 - root_mean_squared_error: 17.1459\n",
      "Epoch 36/100\n",
      "12/12 [==============================] - 0s 583us/sample - loss: 291.2367 - root_mean_squared_error: 17.0657\n",
      "Epoch 37/100\n",
      "12/12 [==============================] - 0s 583us/sample - loss: 288.5084 - root_mean_squared_error: 16.9855\n",
      "Epoch 38/100\n",
      "12/12 [==============================] - 0s 500us/sample - loss: 285.7971 - root_mean_squared_error: 16.9055\n",
      "Epoch 39/100\n",
      "12/12 [==============================] - 0s 583us/sample - loss: 283.1024 - root_mean_squared_error: 16.8256\n",
      "Epoch 40/100\n",
      "12/12 [==============================] - 0s 500us/sample - loss: 280.4237 - root_mean_squared_error: 16.7459\n",
      "Epoch 41/100\n",
      "12/12 [==============================] - 0s 500us/sample - loss: 277.7610 - root_mean_squared_error: 16.6662\n",
      "Epoch 42/100\n",
      "12/12 [==============================] - 0s 583us/sample - loss: 275.1138 - root_mean_squared_error: 16.5866\n",
      "Epoch 43/100\n",
      "12/12 [==============================] - 0s 583us/sample - loss: 272.4818 - root_mean_squared_error: 16.5070\n",
      "Epoch 44/100\n",
      "12/12 [==============================] - 0s 583us/sample - loss: 269.8650 - root_mean_squared_error: 16.4276\n",
      "Epoch 45/100\n",
      "12/12 [==============================] - 0s 583us/sample - loss: 267.2630 - root_mean_squared_error: 16.3482\n",
      "Epoch 46/100\n",
      "12/12 [==============================] - 0s 500us/sample - loss: 264.6756 - root_mean_squared_error: 16.2689\n",
      "Epoch 47/100\n",
      "12/12 [==============================] - 0s 583us/sample - loss: 262.1028 - root_mean_squared_error: 16.1896\n",
      "Epoch 48/100\n",
      "12/12 [==============================] - 0s 501us/sample - loss: 259.5442 - root_mean_squared_error: 16.1104\n",
      "Epoch 49/100\n",
      "12/12 [==============================] - 0s 583us/sample - loss: 256.9999 - root_mean_squared_error: 16.0312\n",
      "Epoch 50/100\n",
      "12/12 [==============================] - 0s 583us/sample - loss: 254.4697 - root_mean_squared_error: 15.9521\n",
      "Epoch 51/100\n",
      "12/12 [==============================] - 0s 500us/sample - loss: 251.9533 - root_mean_squared_error: 15.8730\n",
      "Epoch 52/100\n",
      "12/12 [==============================] - 0s 583us/sample - loss: 249.4509 - root_mean_squared_error: 15.7940\n",
      "Epoch 53/100\n",
      "12/12 [==============================] - 0s 584us/sample - loss: 246.9622 - root_mean_squared_error: 15.7150\n",
      "Epoch 54/100\n",
      "12/12 [==============================] - 0s 583us/sample - loss: 244.4873 - root_mean_squared_error: 15.6361\n",
      "Epoch 55/100\n",
      "12/12 [==============================] - 0s 500us/sample - loss: 242.0259 - root_mean_squared_error: 15.5572\n",
      "Epoch 56/100\n",
      "12/12 [==============================] - 0s 583us/sample - loss: 239.5781 - root_mean_squared_error: 15.4783\n",
      "Epoch 57/100\n",
      "12/12 [==============================] - 0s 583us/sample - loss: 237.1438 - root_mean_squared_error: 15.3995\n",
      "Epoch 58/100\n",
      "12/12 [==============================] - 0s 583us/sample - loss: 234.7230 - root_mean_squared_error: 15.3207\n",
      "Epoch 59/100\n",
      "12/12 [==============================] - 0s 582us/sample - loss: 232.3155 - root_mean_squared_error: 15.2419\n",
      "Epoch 60/100\n",
      "12/12 [==============================] - 0s 584us/sample - loss: 229.9214 - root_mean_squared_error: 15.1632\n",
      "Epoch 61/100\n",
      "12/12 [==============================] - 0s 500us/sample - loss: 227.5405 - root_mean_squared_error: 15.0844\n",
      "Epoch 62/100\n",
      "12/12 [==============================] - 0s 583us/sample - loss: 225.1730 - root_mean_squared_error: 15.0058\n",
      "Epoch 63/100\n",
      "12/12 [==============================] - 0s 583us/sample - loss: 222.8186 - root_mean_squared_error: 14.9271\n",
      "Epoch 64/100\n",
      "12/12 [==============================] - 0s 583us/sample - loss: 220.4775 - root_mean_squared_error: 14.8485\n",
      "Epoch 65/100\n",
      "12/12 [==============================] - 0s 500us/sample - loss: 218.1495 - root_mean_squared_error: 14.7699\n",
      "Epoch 66/100\n",
      "12/12 [==============================] - 0s 583us/sample - loss: 215.8348 - root_mean_squared_error: 14.6913\n",
      "Epoch 67/100\n",
      "12/12 [==============================] - 0s 583us/sample - loss: 213.5330 - root_mean_squared_error: 14.6128\n"
     ]
    },
    {
     "name": "stdout",
     "output_type": "stream",
     "text": [
      "Epoch 68/100\n",
      "12/12 [==============================] - 0s 500us/sample - loss: 211.2444 - root_mean_squared_error: 14.5343\n",
      "Epoch 69/100\n",
      "12/12 [==============================] - 0s 583us/sample - loss: 208.9689 - root_mean_squared_error: 14.4558\n",
      "Epoch 70/100\n",
      "12/12 [==============================] - 0s 500us/sample - loss: 206.7065 - root_mean_squared_error: 14.3773\n",
      "Epoch 71/100\n",
      "12/12 [==============================] - 0s 583us/sample - loss: 204.4571 - root_mean_squared_error: 14.2989\n",
      "Epoch 72/100\n",
      "12/12 [==============================] - 0s 500us/sample - loss: 202.2208 - root_mean_squared_error: 14.2204\n",
      "Epoch 73/100\n",
      "12/12 [==============================] - 0s 583us/sample - loss: 199.9975 - root_mean_squared_error: 14.1420\n",
      "Epoch 74/100\n",
      "12/12 [==============================] - 0s 584us/sample - loss: 197.7871 - root_mean_squared_error: 14.0637\n",
      "Epoch 75/100\n",
      "12/12 [==============================] - 0s 583us/sample - loss: 195.5898 - root_mean_squared_error: 13.9853\n",
      "Epoch 76/100\n",
      "12/12 [==============================] - 0s 500us/sample - loss: 193.4054 - root_mean_squared_error: 13.9070\n",
      "Epoch 77/100\n",
      "12/12 [==============================] - 0s 583us/sample - loss: 191.2341 - root_mean_squared_error: 13.8287\n",
      "Epoch 78/100\n",
      "12/12 [==============================] - 0s 583us/sample - loss: 189.0756 - root_mean_squared_error: 13.7505\n",
      "Epoch 79/100\n",
      "12/12 [==============================] - 0s 584us/sample - loss: 186.9302 - root_mean_squared_error: 13.6722\n",
      "Epoch 80/100\n",
      "12/12 [==============================] - 0s 583us/sample - loss: 184.7977 - root_mean_squared_error: 13.5940\n",
      "Epoch 81/100\n",
      "12/12 [==============================] - 0s 500us/sample - loss: 182.6781 - root_mean_squared_error: 13.5158\n",
      "Epoch 82/100\n",
      "12/12 [==============================] - 0s 583us/sample - loss: 180.5714 - root_mean_squared_error: 13.4377\n",
      "Epoch 83/100\n",
      "12/12 [==============================] - 0s 583us/sample - loss: 178.4777 - root_mean_squared_error: 13.3596\n",
      "Epoch 84/100\n",
      "12/12 [==============================] - 0s 583us/sample - loss: 176.3969 - root_mean_squared_error: 13.2814\n",
      "Epoch 85/100\n",
      "12/12 [==============================] - 0s 500us/sample - loss: 174.3289 - root_mean_squared_error: 13.2034\n",
      "Epoch 86/100\n",
      "12/12 [==============================] - 0s 583us/sample - loss: 172.2739 - root_mean_squared_error: 13.1253\n",
      "Epoch 87/100\n",
      "12/12 [==============================] - 0s 583us/sample - loss: 170.2318 - root_mean_squared_error: 13.0473\n",
      "Epoch 88/100\n",
      "12/12 [==============================] - 0s 500us/sample - loss: 168.2025 - root_mean_squared_error: 12.9693\n",
      "Epoch 89/100\n",
      "12/12 [==============================] - 0s 583us/sample - loss: 166.1861 - root_mean_squared_error: 12.8913\n",
      "Epoch 90/100\n",
      "12/12 [==============================] - 0s 834us/sample - loss: 164.1826 - root_mean_squared_error: 12.8134\n",
      "Epoch 91/100\n",
      "12/12 [==============================] - 0s 583us/sample - loss: 162.1920 - root_mean_squared_error: 12.7355\n",
      "Epoch 92/100\n",
      "12/12 [==============================] - 0s 667us/sample - loss: 160.2142 - root_mean_squared_error: 12.6576\n",
      "Epoch 93/100\n",
      "12/12 [==============================] - 0s 583us/sample - loss: 158.2492 - root_mean_squared_error: 12.5797\n",
      "Epoch 94/100\n",
      "12/12 [==============================] - 0s 750us/sample - loss: 156.2971 - root_mean_squared_error: 12.5019\n",
      "Epoch 95/100\n",
      "12/12 [==============================] - 0s 500us/sample - loss: 154.3579 - root_mean_squared_error: 12.4241\n",
      "Epoch 96/100\n",
      "12/12 [==============================] - 0s 583us/sample - loss: 152.4315 - root_mean_squared_error: 12.3463\n",
      "Epoch 97/100\n",
      "12/12 [==============================] - 0s 500us/sample - loss: 150.5179 - root_mean_squared_error: 12.2686\n",
      "Epoch 98/100\n",
      "12/12 [==============================] - 0s 583us/sample - loss: 148.6171 - root_mean_squared_error: 12.1909\n",
      "Epoch 99/100\n",
      "12/12 [==============================] - 0s 500us/sample - loss: 146.7291 - root_mean_squared_error: 12.1132\n",
      "Epoch 100/100\n",
      "12/12 [==============================] - 0s 583us/sample - loss: 144.8540 - root_mean_squared_error: 12.0355\n"
     ]
    },
    {
     "data": {
      "image/png": "[encoded data removed]",
      "text/plain": [
       "<Figure size 432x288 with 1 Axes>"
      ]
     },
     "metadata": {
      "needs_background": "light"
     },
     "output_type": "display_data"
    },
    {
     "data": {
      "image/png": "[encoded data removed]",
      "text/plain": [
       "<Figure size 432x288 with 1 Axes>"
      ]
     },
     "metadata": {
      "needs_background": "light"
     },
     "output_type": "display_data"
    }
   ],
   "source": [
    "learning_rate=0.0001\n",
    "epochs=100\n",
    "my_batch_size=12\n",
    "\n",
    "my_model = build_model(learning_rate)\n",
    "trained_weight, trained_bias, epochs, rmse = train_model(my_model, my_feature, \n",
    "                                                 \n",
    "                                                         \n",
    "                                                         my_label, epochs,\n",
    "                                                         my_batch_size)\n",
    "plot_the_model(trained_weight, trained_bias, my_feature, my_label)\n",
    "plot_the_loss_curve(epochs, rmse)"
   ]
  },
  {
   "cell_type": "markdown",
   "metadata": {
    "colab_type": "text",
    "id": "QwSm60H6pQjJ"
   },
   "source": [
    "## Task 1: Examine the graphs\n",
    "\n",
    "Examine the top graph. The blue dots identify the actual data; the red line identifies the output of the trained model. Ideally, the red line should align nicely with the blue dots.  Does it?  Probably not.\n",
    "\n",
    "A certain amount of randomness plays into training a model, so you'll get somewhat different results every time you train.  That said, unless you are an extremely lucky person, the red line probably *doesn't* align nicely with the blue dots.  \n",
    "\n",
    "Examine the bottom graph, which shows the loss curve. Notice that the loss curve decreases but doesn't flatten out, which is a sign that the model hasn't trained sufficiently."
   ]
  },
  {
   "cell_type": "markdown",
   "metadata": {
    "colab_type": "text",
    "id": "lLXPvqCRvgI4"
   },
   "source": [
    "## Task 2: Increase the number of epochs\n",
    "\n",
    "Training loss should steadily decrease, steeply at first, and then more slowly. Eventually, training loss should eventually stay steady (zero slope or nearly zero slope), which indicates that training has [converged](http://developers.google.com/machine-learning/glossary/#convergence).\n",
    "\n",
    "In Task 1, the training loss did not converge. One possible solution is to train for more epochs.  Your task is to increase the number of epochs sufficiently to get the model to converge. However, it is inefficient to train past convergence, so don't just set the number of epochs to an arbitrarily high value.\n",
    "\n",
    "Examine the loss curve. Does the model converge?"
   ]
  },
  {
   "cell_type": "code",
   "execution_count": null,
   "metadata": {
    "colab": {},
    "colab_type": "code",
    "id": "uXuJH3h6t5qs"
   },
   "outputs": [],
   "source": [
    "learning_rate=0.01\n",
    "epochs= ?   # Replace ? with an integer.\n",
    "my_batch_size=12\n",
    "\n",
    "my_model = build_model(learning_rate)\n",
    "trained_weight, trained_bias, epochs, rmse = train_model(my_model, my_feature, \n",
    "                                                        my_label, epochs,\n",
    "                                                        my_batch_size)\n",
    "plot_the_model(trained_weight, trained_bias, my_feature, my_label)\n",
    "plot_the_loss_curve(epochs, rmse)"
   ]
  },
  {
   "cell_type": "code",
   "execution_count": null,
   "metadata": {
    "cellView": "form",
    "colab": {},
    "colab_type": "code",
    "id": "1tWrzP4Ww7sD"
   },
   "outputs": [],
   "source": [
    "#@title Double-click to view a possible solution\n",
    "learning_rate=0.01\n",
    "epochs=450\n",
    "my_batch_size=12 \n",
    "\n",
    "my_model = build_model(learning_rate)\n",
    "trained_weight, trained_bias, epochs, rmse = train_model(my_model, my_feature, \n",
    "                                                         my_label, epochs,\n",
    "                                                         my_batch_size)\n",
    "plot_the_model(trained_weight, trained_bias, my_feature, my_label)\n",
    "plot_the_loss_curve(epochs, rmse)\n",
    "\n",
    "# The loss curve suggests that the model does converge."
   ]
  },
  {
   "cell_type": "markdown",
   "metadata": {
    "colab_type": "text",
    "id": "0KmzfFB5zwvd"
   },
   "source": [
    "## Task 3: Increase the learning rate\n",
    "\n",
    "In Task 2, you increased the number of epochs to get the model to converge. Sometimes, you can get the model to converge more quickly by increasing the learning rate. However, setting the learning rate too high often makes it impossible for a model to converge. In Task 3, we've intentionally set the learning rate too high. Run the following code cell and see what happens."
   ]
  },
  {
   "cell_type": "code",
   "execution_count": null,
   "metadata": {
    "colab": {},
    "colab_type": "code",
    "id": "eD1hTmdd0uCo"
   },
   "outputs": [],
   "source": [
    "# Increase the learning rate and decrease the number of epochs.\n",
    "learning_rate=100 \n",
    "epochs=500 \n",
    "\n",
    "my_model = build_model(learning_rate)\n",
    "trained_weight, trained_bias, epochs, rmse = train_model(my_model, my_feature, \n",
    "                                                         my_label, epochs,\n",
    "                                                         my_batch_size)\n",
    "plot_the_model(trained_weight, trained_bias, my_feature, my_label)\n",
    "plot_the_loss_curve(epochs, rmse)"
   ]
  },
  {
   "cell_type": "markdown",
   "metadata": {
    "colab_type": "text",
    "id": "c96ITm021NEV"
   },
   "source": [
    "The resulting model is terrible; the red line doesn't align with the blue dots. Furthermore, the loss curve oscillates like a [roller coaster](https://www.wikipedia.org/wiki/Roller_coaster).  An oscillating loss curve strongly suggests that the learning rate is too high. "
   ]
  },
  {
   "cell_type": "markdown",
   "metadata": {
    "colab_type": "text",
    "id": "r63YkMx82WVr"
   },
   "source": [
    "## Task 4: Find the ideal combination of epochs and learning rate\n",
    "\n",
    "Assign values to the following two hyperparameters to make training converge as efficiently as possible: \n",
    "\n",
    "*  learning_rate\n",
    "*  epochs"
   ]
  },
  {
   "cell_type": "code",
   "execution_count": null,
   "metadata": {
    "colab": {},
    "colab_type": "code",
    "id": "ZYC8eR5x5n4m"
   },
   "outputs": [],
   "source": [
    "# Set the learning rate and number of epochs\n",
    "learning_rate= ?  # Replace ? with a floating-point number\n",
    "epochs= ?   # Replace ? with an integer\n",
    "\n",
    "my_model = build_model(learning_rate)\n",
    "trained_weight, trained_bias, epochs, rmse = train_model(my_model, my_feature, \n",
    "                                                         my_label, epochs,\n",
    "                                                         my_batch_size)\n",
    "plot_the_model(trained_weight, trained_bias, my_feature, my_label)\n",
    "plot_the_loss_curve(epochs, rmse)"
   ]
  },
  {
   "cell_type": "code",
   "execution_count": null,
   "metadata": {
    "cellView": "form",
    "colab": {},
    "colab_type": "code",
    "id": "_GMGgR6O54IN"
   },
   "outputs": [],
   "source": [
    "#@title Double-click to view a possible solution\n",
    "\n",
    "learning_rate=0.14\n",
    "epochs=70\n",
    "my_batch_size=12\n",
    "\n",
    "my_model = build_model(learning_rate)\n",
    "trained_weight, trained_bias, epochs, rmse = train_model(my_model, my_feature, \n",
    "                                                         my_label, epochs,\n",
    "                                                         my_batch_size)\n",
    "plot_the_model(trained_weight, trained_bias, my_feature, my_label)\n",
    "plot_the_loss_curve(epochs, rmse)"
   ]
  },
  {
   "cell_type": "markdown",
   "metadata": {
    "colab_type": "text",
    "id": "0NDET9e6AAbA"
   },
   "source": [
    "## Task 5: Adjust the batch size\n",
    "\n",
    "The system recalculates the model's loss value and adjusts the model's weights and bias after each **iteration**.  Each iteration is the span in which the system processes one batch. For example, if the **batch size** is 6, then the system recalculates the model's loss value and adjusts the model's weights and bias after processing every 6 examples.  \n",
    "\n",
    "One **epoch** spans sufficient iterations to process every example in the dataset. For example, if the batch size is 12, then each epoch lasts one iteration. However, if the batch size is 6, then each epoch consumes two iterations.  \n",
    "\n",
    "It is tempting to simply set the batch size to the number of examples in the dataset (12, in this case). However, the model might actually train faster on smaller batches. Conversely, very small batches might not contain enough information to help the model converge. \n",
    "\n",
    "Experiment with `batch_size` in the following code cell. What's the smallest integer you can set for `batch_size` and still have the model converge in a hundred epochs?"
   ]
  },
  {
   "cell_type": "code",
   "execution_count": null,
   "metadata": {
    "colab": {},
    "colab_type": "code",
    "id": "_vGx0lOodQrT"
   },
   "outputs": [],
   "source": [
    "learning_rate=0.05\n",
    "epochs=100\n",
    "my_batch_size= ?  # Replace ? with an integer.\n",
    "\n",
    "my_model = build_model(learning_rate)\n",
    "trained_weight, trained_bias, epochs, rmse = train_model(my_model, my_feature, \n",
    "                                                        my_label, epochs,\n",
    "                                                        my_batch_size)\n",
    "plot_the_model(trained_weight, trained_bias, my_feature, my_label)\n",
    "plot_the_loss_curve(epochs, rmse)"
   ]
  },
  {
   "cell_type": "code",
   "execution_count": null,
   "metadata": {
    "cellView": "form",
    "colab": {},
    "colab_type": "code",
    "id": "-mtVpoBrANAm"
   },
   "outputs": [],
   "source": [
    "#@title Double-click to view a possible solution\n",
    "\n",
    "learning_rate=0.05\n",
    "epochs=125\n",
    "my_batch_size=1 # Wow, a batch size of 1 works!\n",
    "\n",
    "my_model = build_model(learning_rate)\n",
    "trained_weight, trained_bias, epochs, rmse = train_model(my_model, my_feature, \n",
    "                                                         my_label, epochs,\n",
    "                                                         my_batch_size)\n",
    "plot_the_model(trained_weight, trained_bias, my_feature, my_label)\n",
    "plot_the_loss_curve(epochs, rmse)\n"
   ]
  },
  {
   "cell_type": "markdown",
   "metadata": {
    "colab_type": "text",
    "id": "aS3q7TIF9SFL"
   },
   "source": [
    "## Summary of hyperparameter tuning\n",
    "\n",
    "Most machine learning problems require a lot of hyperparameter tuning.  Unfortunately, we can't provide concrete tuning rules for every model. Lowering the learning rate can help one model converge efficiently but make another model converge much too slowly.  You must experiment to find the best set of hyperparameters for your dataset. That said, here are a few rules of thumb:\n",
    "\n",
    " * Training loss should steadily decrease, steeply at first, and then more slowly until the slope of the curve reaches or approaches zero. \n",
    " * If the training loss does not converge, train for more epochs.\n",
    " * If the training loss decreases too slowly, increase the learning rate. Note that setting the learning rate too high may also prevent training loss from converging.\n",
    " * If the training loss varies wildly (that is, the training loss jumps around), decrease the learning rate.\n",
    " * Lowering the learning rate while increasing the number of epochs or the batch size is often a good combination.\n",
    " * Setting the batch size to a *very* small batch number can also cause instability. First, try large batch size values. Then, decrease the batch size until you see degradation.\n",
    " * For real-world datasets consisting of a very large number of examples, the entire dataset might not fit into memory. In such cases, you'll need to reduce the batch size to enable a batch to fit into memory. \n",
    "\n",
    "Remember: the ideal combination of hyperparameters is data dependent, so you must always experiment and verify."
   ]
  }
 ],
 "metadata": {
  "colab": {
   "collapsed_sections": [],
   "name": "Linear Regression with Synthetic Data.ipynb",
   "private_outputs": true,
   "provenance": []
  },
  "kernelspec": {
   "display_name": "Python 3",
   "language": "python",
   "name": "python3"
  },
  "language_info": {
   "codemirror_mode": {
    "name": "ipython",
    "version": 3
   },
   "file_extension": ".py",
   "mimetype": "text/x-python",
   "name": "python",
   "nbconvert_exporter": "python",
   "pygments_lexer": "ipython3",
   "version": "3.7.7"
  }
 },
 "nbformat": 4,
 "nbformat_minor": 1
}
