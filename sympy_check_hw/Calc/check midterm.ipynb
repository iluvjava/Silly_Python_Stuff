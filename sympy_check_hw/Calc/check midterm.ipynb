{
 "cells": [
  {
   "cell_type": "code",
   "execution_count": 26,
   "metadata": {
    "collapsed": true
   },
   "outputs": [],
   "source": [
    "from sympy import symbols, integrate, \\\n",
    "    cos, sin, pi, diff, Matrix, simplify, factor, exp, sqrt\n",
    "from sympy.physics.vector import ReferenceFrame, curl, gradient\n",
    "from sympy.vector import CoordSys3D"
   ]
  },
  {
   "cell_type": "code",
   "execution_count": 6,
   "outputs": [
    {
     "data": {
      "text/plain": "exp(-r**2)*cos(phi + 2*theta)",
      "text/latex": "$\\displaystyle e^{- r^{2}} \\cos{\\left(\\phi + 2 \\theta \\right)}$"
     },
     "metadata": {},
     "output_type": "display_data"
    },
    {
     "data": {
      "text/plain": "-2*r*exp(-r**2)*cos(phi + 2*theta)",
      "text/latex": "$\\displaystyle - 2 r e^{- r^{2}} \\cos{\\left(\\phi + 2 \\theta \\right)}$"
     },
     "execution_count": 6,
     "metadata": {},
     "output_type": "execute_result"
    }
   ],
   "source": [
    "r, phi, theta = symbols(\"r phi theta\")\n",
    "f = exp(-r**2)*cos(phi + 2*theta)\n",
    "display(f)"
   ],
   "metadata": {
    "collapsed": false,
    "pycharm": {
     "name": "#%%\n"
    }
   }
  },
  {
   "cell_type": "markdown",
   "source": [
    "All partial derivative of above expression."
   ],
   "metadata": {
    "collapsed": false,
    "pycharm": {
     "name": "#%% md\n"
    }
   }
  },
  {
   "cell_type": "code",
   "execution_count": 9,
   "outputs": [
    {
     "data": {
      "text/plain": "-2*r*exp(-r**2)*cos(phi + 2*theta)",
      "text/latex": "$\\displaystyle - 2 r e^{- r^{2}} \\cos{\\left(\\phi + 2 \\theta \\right)}$"
     },
     "metadata": {},
     "output_type": "display_data"
    },
    {
     "data": {
      "text/plain": "-2*exp(-r**2)*sin(phi + 2*theta)",
      "text/latex": "$\\displaystyle - 2 e^{- r^{2}} \\sin{\\left(\\phi + 2 \\theta \\right)}$"
     },
     "metadata": {},
     "output_type": "display_data"
    },
    {
     "data": {
      "text/plain": "-exp(-r**2)*sin(phi + 2*theta)",
      "text/latex": "$\\displaystyle - e^{- r^{2}} \\sin{\\left(\\phi + 2 \\theta \\right)}$"
     },
     "metadata": {},
     "output_type": "display_data"
    }
   ],
   "source": [
    "df_r = diff(f, r)\n",
    "display(df_r)\n",
    "df_theta = diff(f, theta)\n",
    "display(df_theta)\n",
    "df_phi = diff(f, phi)\n",
    "display(df_phi)"
   ],
   "metadata": {
    "collapsed": false,
    "pycharm": {
     "name": "#%%\n"
    }
   }
  },
  {
   "cell_type": "markdown",
   "source": [
    "And we try to see the laplacian here."
   ],
   "metadata": {
    "collapsed": false,
    "pycharm": {
     "name": "#%% md\n"
    }
   }
  },
  {
   "cell_type": "code",
   "execution_count": 14,
   "outputs": [
    {
     "data": {
      "text/plain": "2*(2*r**2 - 3)*exp(-r**2)*cos(phi + 2*theta)",
      "text/latex": "$\\displaystyle 2 \\left(2 r^{2} - 3\\right) e^{- r^{2}} \\cos{\\left(\\phi + 2 \\theta \\right)}$"
     },
     "metadata": {},
     "output_type": "display_data"
    }
   ],
   "source": [
    "divf_1 = diff(r**2*df_r, r)*r**(-2)\n",
    "divf_1 = simplify(divf_1)\n",
    "display(divf_1)"
   ],
   "metadata": {
    "collapsed": false,
    "pycharm": {
     "name": "#%%\n"
    }
   }
  },
  {
   "cell_type": "code",
   "execution_count": 22,
   "outputs": [
    {
     "data": {
      "text/plain": "(-4*exp(-r**2)*sin(theta)*cos(phi + 2*theta) - 2*exp(-r**2)*sin(phi + 2*theta)*cos(theta))/(r**2*sin(theta))",
      "text/latex": "$\\displaystyle \\frac{- 4 e^{- r^{2}} \\sin{\\left(\\theta \\right)} \\cos{\\left(\\phi + 2 \\theta \\right)} - 2 e^{- r^{2}} \\sin{\\left(\\phi + 2 \\theta \\right)} \\cos{\\left(\\theta \\right)}}{r^{2} \\sin{\\left(\\theta \\right)}}$"
     },
     "metadata": {},
     "output_type": "display_data"
    },
    {
     "data": {
      "text/plain": "(sin(phi + theta) - 3*sin(phi + 3*theta))*exp(-r**2)/(r**2*sin(theta))",
      "text/latex": "$\\displaystyle \\frac{\\left(\\sin{\\left(\\phi + \\theta \\right)} - 3 \\sin{\\left(\\phi + 3 \\theta \\right)}\\right) e^{- r^{2}}}{r^{2} \\sin{\\left(\\theta \\right)}}$"
     },
     "metadata": {},
     "output_type": "display_data"
    },
    {
     "data": {
      "text/plain": "exp(-r**2)*sin(phi + 2*theta)/(r**2*sin(theta)**2)",
      "text/latex": "$\\displaystyle \\frac{e^{- r^{2}} \\sin{\\left(\\phi + 2 \\theta \\right)}}{r^{2} \\sin^{2}{\\left(\\theta \\right)}}$"
     },
     "metadata": {},
     "output_type": "display_data"
    }
   ],
   "source": [
    "divf2 = r**(-2)*sin(theta)**(-1)*diff(sin(theta)*df_theta, theta)\n",
    "display(divf2)\n",
    "divf2 = simplify(divf2)\n",
    "display(divf2)\n",
    "divf3 = (r*sin(theta))**(-2)*diff(df_phi, (phi, 2))\n",
    "display(divf3)\n"
   ],
   "metadata": {
    "collapsed": false,
    "pycharm": {
     "name": "#%%\n"
    }
   }
  },
  {
   "cell_type": "markdown",
   "source": [
    "Let's do a tripple integral."
   ],
   "metadata": {
    "collapsed": false,
    "pycharm": {
     "name": "#%% md\n"
    }
   }
  },
  {
   "cell_type": "code",
   "execution_count": 30,
   "outputs": [
    {
     "data": {
      "text/plain": "z**2",
      "text/latex": "$\\displaystyle z^{2}$"
     },
     "metadata": {},
     "output_type": "display_data"
    },
    {
     "data": {
      "text/plain": "2*pi*z**2",
      "text/latex": "$\\displaystyle 2 \\pi z^{2}$"
     },
     "metadata": {},
     "output_type": "display_data"
    },
    {
     "data": {
      "text/plain": "18*pi",
      "text/latex": "$\\displaystyle 18 \\pi$"
     },
     "metadata": {},
     "output_type": "display_data"
    }
   ],
   "source": [
    "r, theta, z = symbols(\"r theta z\")\n",
    "int1 = integrate(2*z*r, (r, 0, sqrt(z)))\n",
    "display(int1)\n",
    "int2 = integrate(int1, (theta, 0, 2*pi))\n",
    "display(int2)\n",
    "int3 = integrate(int2, (z, 0, 3))\n",
    "display(int3)\n",
    "\n"
   ],
   "metadata": {
    "collapsed": false,
    "pycharm": {
     "name": "#%%\n"
    }
   }
  }
 ],
 "metadata": {
  "kernelspec": {
   "display_name": "Python 3",
   "language": "python",
   "name": "python3"
  },
  "language_info": {
   "codemirror_mode": {
    "name": "ipython",
    "version": 2
   },
   "file_extension": ".py",
   "mimetype": "text/x-python",
   "name": "python",
   "nbconvert_exporter": "python",
   "pygments_lexer": "ipython2",
   "version": "2.7.6"
  }
 },
 "nbformat": 4,
 "nbformat_minor": 0
}