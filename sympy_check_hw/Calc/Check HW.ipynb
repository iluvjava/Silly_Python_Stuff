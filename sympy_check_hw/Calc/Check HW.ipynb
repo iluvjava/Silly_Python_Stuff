{
 "cells": [
  {
   "cell_type": "code",
   "execution_count": 1,
   "metadata": {},
   "outputs": [],
   "source": [
    "from sympy import symbols, integrate, \\\n",
    "    cos, sin, pi, diff, Matrix, simplify, factor\n",
    "from sympy.physics.vector import ReferenceFrame, curl, gradient\n",
    "from sympy.vector import CoordSys3D"
   ]
  },
  {
   "cell_type": "code",
   "execution_count": 2,
   "metadata": {},
   "outputs": [
    {
     "data": {
      "text/plain": "0",
      "text/latex": "$\\displaystyle 0$"
     },
     "execution_count": 2,
     "metadata": {},
     "output_type": "execute_result"
    }
   ],
   "source": [
    "x = symbols(\"x\")\n",
    "integrate(cos(x)*sin(x), (x, 0, 2*pi))"
   ]
  },
  {
   "cell_type": "code",
   "execution_count": 3,
   "metadata": {},
   "outputs": [
    {
     "data": {
      "text/plain": "4/3",
      "text/latex": "$\\displaystyle \\frac{4}{3}$"
     },
     "execution_count": 3,
     "metadata": {},
     "output_type": "execute_result"
    }
   ],
   "source": [
    "integrate(sin(x)**3, (x, 0, pi))"
   ]
  },
  {
   "cell_type": "markdown",
   "metadata": {},
   "source": [
    "### Potential and Conservative Vec Field"
   ]
  },
  {
   "cell_type": "markdown",
   "metadata": {},
   "source": [
    "Test if $$ F =\n",
    "\\begin{bmatrix}\n",
    "    x(z + 1) \\\\ y (z + 1) \\\\ -xyz\n",
    "\\end{bmatrix}\n",
    "$$\n",
    "Conservative? \n"
   ]
  },
  {
   "cell_type": "code",
   "execution_count": 4,
   "metadata": {},
   "outputs": [
    {
     "data": {
      "text/plain": "R_x*(R_z + 1)*R.x + R_y*(R_z + 1)*R.y - R_x*R_y*R_z*R.z",
      "text/latex": "$\\displaystyle R_{x} \\left(R_{z} + 1\\right)\\mathbf{\\hat{r}_x} + R_{y} \\left(R_{z} + 1\\right)\\mathbf{\\hat{r}_y} -  R_{x} R_{y} R_{z}\\mathbf{\\hat{r}_z}$"
     },
     "metadata": {},
     "output_type": "display_data"
    },
    {
     "data": {
      "text/plain": "(-R_x*R_z - R_y)*R.x + (R_x + R_y*R_z)*R.y",
      "text/latex": "$\\displaystyle (- R_{x} R_{z} - R_{y})\\mathbf{\\hat{r}_x} + (R_{x} + R_{y} R_{z})\\mathbf{\\hat{r}_y}$"
     },
     "execution_count": 4,
     "metadata": {},
     "output_type": "execute_result"
    }
   ],
   "source": [
    "x, y, z = symbols(\"x y z\")\n",
    "F1 = x*(z + 1); F2 = y*(z + 1); F3 = -x*y*z;\n",
    "R = ReferenceFrame(\"R\")\n",
    "Substitutions = [(x, R[0]), (y, R[1]), (z, R[2])]\n",
    "F1_r = F1.subs(Substitutions)*R.x\n",
    "F2_r = F2.subs(Substitutions)*R.y\n",
    "F3_r = F3.subs(Substitutions)*R.z\n",
    "F_r = F1_r + F2_r + F3_r\n",
    "display(F_r)\n",
    "curl(F_r, R)"
   ]
  },
  {
   "cell_type": "markdown",
   "metadata": {},
   "source": [
    "This shit is not conservative. "
   ]
  },
  {
   "cell_type": "markdown",
   "metadata": {},
   "source": [
    "Test if $$\n",
    "\\begin{bmatrix}\n",
    "    y + z\\cos(xz)\n",
    "    \\\\\n",
    "    x \n",
    "    \\\\\n",
    "    x\\cos(xz)\n",
    "\\end{bmatrix}\n",
    "$$\n",
    "is conservative, and then find the potential if it is. "
   ]
  },
  {
   "cell_type": "code",
   "execution_count": 5,
   "metadata": {},
   "outputs": [
    {
     "data": {
      "text/plain": "(R_y + R_z*cos(R_x*R_z))*R.x + R_x*R.y + R_x*cos(R_x*R_z)*R.z",
      "text/latex": "$\\displaystyle (R_{y} + R_{z} \\operatorname{cos}\\left(R_{x} R_{z}\\right))\\mathbf{\\hat{r}_x} + R_{x}\\mathbf{\\hat{r}_y} + R_{x} \\operatorname{cos}\\left(R_{x} R_{z}\\right)\\mathbf{\\hat{r}_z}$"
     },
     "metadata": {},
     "output_type": "display_data"
    },
    {
     "data": {
      "text/plain": "0",
      "text/latex": "$\\displaystyle 0$"
     },
     "execution_count": 5,
     "metadata": {},
     "output_type": "execute_result"
    }
   ],
   "source": [
    "x, y, z = symbols(\"x y z\")\n",
    "F1 = y + z*cos(x*z); F2 = x; F3 = x*cos(x*z);\n",
    "R = ReferenceFrame(\"R\")\n",
    "Substitutions = [(x, R[0]), (y, R[1]), (z, R[2])]\n",
    "F1_r = F1.subs(Substitutions)*R.x\n",
    "F2_r = F2.subs(Substitutions)*R.y\n",
    "F3_r = F3.subs(Substitutions)*R.z\n",
    "F_r = F1_r + F2_r + F3_r\n",
    "display(F_r)\n",
    "curl(F_r, R)\n"
   ]
  },
  {
   "cell_type": "markdown",
   "metadata": {},
   "source": [
    "Yep, this shit is conservative. Let's find the potential of the vector field: "
   ]
  },
  {
   "cell_type": "code",
   "source": [
    "F1_Int = integrate(F1, x)\n",
    "display(F1_Int)\n",
    "F2_Int = integrate(F2, x)\n",
    "display(F2_Int)\n",
    "F3_Int = integrate(F3, x)\n",
    "display(F3_Int)"
   ],
   "metadata": {
    "collapsed": false,
    "pycharm": {
     "name": "#%%\n"
    }
   },
   "execution_count": 6,
   "outputs": [
    {
     "data": {
      "text/plain": "x*y + z*Piecewise((sin(x*z)/z, Ne(z, 0)), (x, True))",
      "text/latex": "$\\displaystyle x y + z \\left(\\begin{cases} \\frac{\\sin{\\left(x z \\right)}}{z} & \\text{for}\\: z \\neq 0 \\\\x & \\text{otherwise} \\end{cases}\\right)$"
     },
     "metadata": {},
     "output_type": "display_data"
    },
    {
     "data": {
      "text/plain": "x**2/2",
      "text/latex": "$\\displaystyle \\frac{x^{2}}{2}$"
     },
     "metadata": {},
     "output_type": "display_data"
    },
    {
     "data": {
      "text/plain": "Piecewise((x*sin(x*z)/z + cos(x*z)/z**2, Ne(z, 0)), (x**2/2, True))",
      "text/latex": "$\\displaystyle \\begin{cases} \\frac{x \\sin{\\left(x z \\right)}}{z} + \\frac{\\cos{\\left(x z \\right)}}{z^{2}} & \\text{for}\\: z \\neq 0 \\\\\\frac{x^{2}}{2} & \\text{otherwise} \\end{cases}$"
     },
     "metadata": {},
     "output_type": "display_data"
    }
   ]
  },
  {
   "cell_type": "markdown",
   "source": [
    "Let's just add then up and define something."
   ],
   "metadata": {
    "collapsed": false,
    "pycharm": {
     "name": "#%% md\n"
    }
   }
  },
  {
   "cell_type": "code",
   "execution_count": 7,
   "outputs": [
    {
     "data": {
      "text/plain": "x*cos(x*z) + x + y + z*cos(x*z)",
      "text/latex": "$\\displaystyle x \\cos{\\left(x z \\right)} + x + y + z \\cos{\\left(x z \\right)}$"
     },
     "execution_count": 7,
     "metadata": {},
     "output_type": "execute_result"
    }
   ],
   "source": [
    "Phi_x = x*y + sin(x*z)\n",
    "Phi_y = x**2/2\n",
    "Phi_z = (x*sin(z*x))/z + (cos(x*z))/z**2\n",
    "Phi = Phi_x + Phi_y + Phi_z\n",
    "\n",
    "diff(Phi, x)"
   ],
   "metadata": {
    "collapsed": false,
    "pycharm": {
     "name": "#%%\n"
    }
   }
  },
  {
   "cell_type": "markdown",
   "source": [
    "Oh shit, so this is the wrong way to do it, we will have to be a bit more careful about this shit when integrating.\n",
    "\n",
    "We should start with one of the function without any complications and then integrating backwards to find the answers."
   ],
   "metadata": {
    "collapsed": false,
    "pycharm": {
     "name": "#%% md\n"
    }
   }
  },
  {
   "cell_type": "markdown",
   "source": [
    "Give the serface $z = x^2 + y^2$ find the scalar for the surface integrand of this surface."
   ],
   "metadata": {
    "collapsed": false,
    "pycharm": {
     "name": "#%% md\n"
    }
   }
  },
  {
   "cell_type": "code",
   "execution_count": 8,
   "outputs": [],
   "source": [
    "x, y, z = symbols(\"x y z\")\n",
    "z = x**2 + y**2"
   ],
   "metadata": {
    "collapsed": false,
    "pycharm": {
     "name": "#%%\n"
    }
   }
  },
  {
   "cell_type": "markdown",
   "source": [
    "Paramtrization of the surface"
   ],
   "metadata": {
    "collapsed": false,
    "pycharm": {
     "name": "#%% md\n"
    }
   }
  },
  {
   "cell_type": "code",
   "execution_count": 9,
   "outputs": [
    {
     "data": {
      "text/plain": "Matrix([\n[  1],\n[  0],\n[2*x]])",
      "text/latex": "$\\displaystyle \\left[\\begin{matrix}1\\\\0\\\\2 x\\end{matrix}\\right]$"
     },
     "metadata": {},
     "output_type": "display_data"
    },
    {
     "data": {
      "text/plain": "Matrix([\n[  0],\n[  1],\n[2*y]])",
      "text/latex": "$\\displaystyle \\left[\\begin{matrix}0\\\\1\\\\2 y\\end{matrix}\\right]$"
     },
     "metadata": {},
     "output_type": "display_data"
    },
    {
     "data": {
      "text/plain": "sqrt(4*Abs(x)**2 + 4*Abs(y)**2 + 1)",
      "text/latex": "$\\displaystyle \\sqrt{4 \\left|{x}\\right|^{2} + 4 \\left|{y}\\right|^{2} + 1}$"
     },
     "execution_count": 9,
     "metadata": {},
     "output_type": "execute_result"
    }
   ],
   "source": [
    "Surface = Matrix([[x], [y], [x**2 + y**2]])\n",
    "Surf_Partialx = diff(Surface, x)\n",
    "Surf_Partialy = diff(Surface, y)\n",
    "display(Surf_Partialx)\n",
    "display(Surf_Partialy)\n",
    "Crossed = Surf_Partialx.cross(Surf_Partialy)\n",
    "Crossed.norm()"
   ],
   "metadata": {
    "collapsed": false,
    "pycharm": {
     "name": "#%%\n"
    }
   }
  },
  {
   "cell_type": "markdown",
   "source": [
    "Given the surface:\n",
    "$\n",
    "r(u, v) =\n",
    "\\begin{bmatrix}\n",
    "    uv \\\\ v^2 \\\\ \\frac{u^2}{v}\n",
    "\\end{bmatrix}\n",
    "$\n",
    "Find the surface integrator, scalr form."
   ],
   "metadata": {
    "collapsed": false,
    "pycharm": {
     "name": "#%% md\n"
    }
   }
  },
  {
   "cell_type": "code",
   "execution_count": 10,
   "outputs": [
    {
     "data": {
      "text/plain": "Matrix([\n[-2*u*v],\n[  u**2],\n[2*v**2]])",
      "text/latex": "$\\displaystyle \\left[\\begin{matrix}- 2 u v\\\\u^{2}\\\\2 v^{2}\\end{matrix}\\right]$"
     },
     "metadata": {},
     "output_type": "display_data"
    },
    {
     "data": {
      "text/plain": "sqrt(Abs(u**2)**2 + 4*Abs(v**2)**2 + 4*Abs(u*v)**2)",
      "text/latex": "$\\displaystyle \\sqrt{\\left|{u^{2}}\\right|^{2} + 4 \\left|{v^{2}}\\right|^{2} + 4 \\left|{u v}\\right|^{2}}$"
     },
     "metadata": {},
     "output_type": "display_data"
    },
    {
     "data": {
      "text/plain": "Abs(u**2)**2 + 4*Abs(v**2)**2 + 4*Abs(u*v)**2",
      "text/latex": "$\\displaystyle \\left|{u^{2}}\\right|^{2} + 4 \\left|{v^{2}}\\right|^{2} + 4 \\left|{u v}\\right|^{2}$"
     },
     "execution_count": 10,
     "metadata": {},
     "output_type": "execute_result"
    }
   ],
   "source": [
    "u, v = symbols(\"u v\")\n",
    "r = Matrix([[u*v], [v**2], [u**2/2]])\n",
    "r_Integrator = diff(r, u).cross(diff(r, v))\n",
    "display(r_Integrator)\n",
    "display(r_Integrator.norm())\n",
    "factor(r_Integrator.norm()**2)"
   ],
   "metadata": {
    "collapsed": false,
    "pycharm": {
     "name": "#%%\n"
    }
   }
  },
  {
   "cell_type": "markdown",
   "source": [
    "### Stoke's Theorem\n",
    "Given a vector field,\n",
    "$\n",
    "F = \\begin{bmatrix}\n",
    "    x \\\\ x + y \\\\ x + y + z\n",
    "\\end{bmatrix}\n",
    "$, and then we are interested in the ellipse formed by the intersection of $x^2 + y^2 = 1$ and $z = y$, find the work done on the ellipse, counterclockwise."
   ],
   "metadata": {
    "collapsed": false,
    "pycharm": {
     "name": "#%% md\n"
    }
   }
  },
  {
   "cell_type": "markdown",
   "source": [
    "Doing it old fasion with the Line integral."
   ],
   "metadata": {
    "collapsed": false,
    "pycharm": {
     "name": "#%% md\n"
    }
   }
  },
  {
   "cell_type": "code",
   "execution_count": 11,
   "outputs": [
    {
     "data": {
      "text/plain": "Matrix([\n[                   r*cos(theta)],\n[    r*sin(theta) + r*cos(theta)],\n[r*sin(theta) + r*cos(theta) + z]])",
      "text/latex": "$\\displaystyle \\left[\\begin{matrix}r \\cos{\\left(\\theta \\right)}\\\\r \\sin{\\left(\\theta \\right)} + r \\cos{\\left(\\theta \\right)}\\\\r \\sin{\\left(\\theta \\right)} + r \\cos{\\left(\\theta \\right)} + z\\end{matrix}\\right]$"
     },
     "metadata": {},
     "output_type": "display_data"
    }
   ],
   "source": [
    "x, y, z = symbols(\"x y z\")\n",
    "F = Matrix([[x], [x + y], [x + y + z]])\n",
    "theta, r = symbols(\"theta r\")\n",
    "F = F.subs({x: r*cos(theta), y: r*sin(theta)})\n",
    "display(F)"
   ],
   "metadata": {
    "collapsed": false,
    "pycharm": {
     "name": "#%%\n"
    }
   }
  },
  {
   "cell_type": "markdown",
   "source": [
    "The range for the integral is just the regular, $0\\leq \\theta \\leq 2\\pi$ and $r = 1$, and we also need to paramatrized the line"
   ],
   "metadata": {
    "collapsed": false,
    "pycharm": {
     "name": "#%% md\n"
    }
   }
  },
  {
   "cell_type": "code",
   "execution_count": 12,
   "outputs": [
    {
     "data": {
      "text/plain": "Matrix([\n[-sin(theta)],\n[ cos(theta)],\n[ cos(theta)]])",
      "text/latex": "$\\displaystyle \\left[\\begin{matrix}- \\sin{\\left(\\theta \\right)}\\\\\\cos{\\left(\\theta \\right)}\\\\\\cos{\\left(\\theta \\right)}\\end{matrix}\\right]$"
     },
     "metadata": {},
     "output_type": "display_data"
    },
    {
     "data": {
      "text/plain": "Matrix([\n[               cos(theta)],\n[  sin(theta) + cos(theta)],\n[2*sin(theta) + cos(theta)]])",
      "text/latex": "$\\displaystyle \\left[\\begin{matrix}\\cos{\\left(\\theta \\right)}\\\\\\sin{\\left(\\theta \\right)} + \\cos{\\left(\\theta \\right)}\\\\2 \\sin{\\left(\\theta \\right)} + \\cos{\\left(\\theta \\right)}\\end{matrix}\\right]$"
     },
     "metadata": {},
     "output_type": "display_data"
    },
    {
     "data": {
      "text/plain": "(sin(theta) + cos(theta))*cos(theta) + (2*sin(theta) + cos(theta))*cos(theta) - sin(theta)*cos(theta)",
      "text/latex": "$\\displaystyle \\left(\\sin{\\left(\\theta \\right)} + \\cos{\\left(\\theta \\right)}\\right) \\cos{\\left(\\theta \\right)} + \\left(2 \\sin{\\left(\\theta \\right)} + \\cos{\\left(\\theta \\right)}\\right) \\cos{\\left(\\theta \\right)} - \\sin{\\left(\\theta \\right)} \\cos{\\left(\\theta \\right)}$"
     },
     "metadata": {},
     "output_type": "display_data"
    },
    {
     "data": {
      "text/plain": "sqrt(2)*sin(2*theta + pi/4) + 1",
      "text/latex": "$\\displaystyle \\sqrt{2} \\sin{\\left(2 \\theta + \\frac{\\pi}{4} \\right)} + 1$"
     },
     "metadata": {},
     "output_type": "display_data"
    },
    {
     "data": {
      "text/plain": "2*pi",
      "text/latex": "$\\displaystyle 2 \\pi$"
     },
     "execution_count": 12,
     "metadata": {},
     "output_type": "execute_result"
    }
   ],
   "source": [
    "r  = Matrix([[cos(theta)], [sin(theta)], [sin(theta)]])\n",
    "F  = Matrix([[x], [x + y], [x + y + z]])\n",
    "dr = diff(r, theta)\n",
    "display(dr)\n",
    "F = F.subs([(x, r[0]), (y, r[1]), (z, r[2])])\n",
    "display(F)\n",
    "F_dot_dr = F.dot(dr)\n",
    "display(F_dot_dr)\n",
    "F_dot_dr = simplify(F_dot_dr)\n",
    "display(F_dot_dr)\n",
    "integrate(F_dot_dr, (theta, 0, 2*pi))"
   ],
   "metadata": {
    "collapsed": false,
    "pycharm": {
     "name": "#%%\n"
    }
   }
  },
  {
   "cell_type": "markdown",
   "source": [
    "The results for the line integral is $2\\pi$, now we are going to use the idea of a surface integral and sum up the curl dot with the surface, and hopefully the deafult setting should get us safe with the right hand rule.\n",
    "\n",
    "We also need to find out the curl of the vector field, but but in a different coordinate...?\n",
    "\n",
    "### Alternative Curvillinear Coordiantes:"
   ],
   "metadata": {
    "collapsed": false,
    "pycharm": {
     "name": "#%% md\n"
    }
   }
  },
  {
   "cell_type": "code",
   "execution_count": 13,
   "outputs": [],
   "source": [
    "U = CoordSys3D(\"U\", transformation=\"spherical\")\n",
    "\n",
    "\n"
   ],
   "metadata": {
    "collapsed": false,
    "pycharm": {
     "name": "#%%\n"
    }
   }
  }
 ],
 "metadata": {
  "kernelspec": {
   "name": "python3",
   "language": "python",
   "display_name": "Python 3"
  },
  "language_info": {
   "codemirror_mode": {
    "name": "ipython",
    "version": 3
   },
   "file_extension": ".py",
   "mimetype": "text/x-python",
   "name": "python",
   "nbconvert_exporter": "python",
   "pygments_lexer": "ipython3",
   "version": "3.7.7"
  }
 },
 "nbformat": 4,
 "nbformat_minor": 4
}