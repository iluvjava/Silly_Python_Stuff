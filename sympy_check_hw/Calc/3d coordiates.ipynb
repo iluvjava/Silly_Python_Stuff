{
 "cells": [
  {
   "cell_type": "markdown",
   "source": [
    "## Coordinate System\n",
    "Let's make something about maths in 3d but with a touch on curvilinear coordinates."
   ],
   "metadata": {
    "collapsed": false,
    "pycharm": {
     "name": "#%% md\n"
    }
   }
  },
  {
   "cell_type": "code",
   "execution_count": 8,
   "outputs": [
    {
     "data": {
      "text/plain": "Matrix([\n[x],\n[y],\n[z]])",
      "text/latex": "$\\displaystyle \\left[\\begin{matrix}x\\\\y\\\\z\\end{matrix}\\right]$"
     },
     "metadata": {},
     "output_type": "display_data"
    }
   ],
   "source": [
    "from sympy import symbols, Matrix\n",
    "x, y, z = symbols(\"x y z\")\n",
    "F = Matrix([[x], [y], [z]])\n",
    "display(F)\n"
   ],
   "metadata": {
    "collapsed": false,
    "pycharm": {
     "name": "#%%\n"
    }
   }
  }
 ],
 "metadata": {
  "kernelspec": {
   "display_name": "Python 3",
   "language": "python",
   "name": "python3"
  },
  "language_info": {
   "codemirror_mode": {
    "name": "ipython",
    "version": 2
   },
   "file_extension": ".py",
   "mimetype": "text/x-python",
   "name": "python",
   "nbconvert_exporter": "python",
   "pygments_lexer": "ipython2",
   "version": "2.7.6"
  }
 },
 "nbformat": 4,
 "nbformat_minor": 0
}