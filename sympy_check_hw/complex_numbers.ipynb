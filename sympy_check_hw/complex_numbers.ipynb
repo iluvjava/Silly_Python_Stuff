{
 "cells": [
  {
   "cell_type": "markdown",
   "source": [
    "## Complex Function\n",
    "\n",
    "Import stuff needed for complex functions."
   ],
   "metadata": {
    "collapsed": false,
    "pycharm": {
     "name": "#%% md\n"
    }
   }
  },
  {
   "cell_type": "code",
   "execution_count": 1,
   "metadata": {
    "collapsed": true
   },
   "outputs": [],
   "source": [
    "from sympy import sin, cos, Lambda, exp, I, Derivative, diff, symbols, im, re, simplify\n",
    "x, y = symbols(\"x y\", real=True)\n",
    "z = symbols(\"z\")"
   ]
  },
  {
   "cell_type": "markdown",
   "source": [
    "Make a Function with Lambda"
   ],
   "metadata": {
    "collapsed": false,
    "pycharm": {
     "name": "#%% md\n"
    }
   }
  },
  {
   "cell_type": "code",
   "execution_count": 2,
   "outputs": [],
   "source": [
    "Fxn_U = Lambda((x, y), exp(x)*cos(y))\n",
    "Fxn_V = Lambda((x, y), exp(x)*sin(y))"
   ],
   "metadata": {
    "collapsed": false,
    "pycharm": {
     "name": "#%%\n"
    }
   }
  },
  {
   "cell_type": "markdown",
   "source": [
    "We made a Complex Exponential function"
   ],
   "metadata": {
    "collapsed": false,
    "pycharm": {
     "name": "#%% md\n"
    }
   }
  },
  {
   "cell_type": "code",
   "execution_count": 3,
   "outputs": [
    {
     "name": "stdout",
     "output_type": "stream",
     "text": [
      "True\n"
     ]
    },
    {
     "data": {
      "text/plain": "-exp(x)*sin(y) + I*exp(x)*cos(y)",
      "text/latex": "$\\displaystyle - e^{x} \\sin{\\left(y \\right)} + i e^{x} \\cos{\\left(y \\right)}$"
     },
     "execution_count": 3,
     "metadata": {},
     "output_type": "execute_result"
    }
   ],
   "source": [
    "Fxn = Lambda((x, y), Fxn_U(x, y) + Fxn_V(x, y)*I)\n",
    "print(type(Fxn) == Lambda)\n",
    "diff(Fxn(x, y), y)"
   ],
   "metadata": {
    "collapsed": false,
    "pycharm": {
     "name": "#%%\n"
    }
   }
  },
  {
   "cell_type": "markdown",
   "source": [
    "Note that when doing derivative, we need to use `__call__` function on the given instance for sympy to take the derivative on the lamabda function."
   ],
   "metadata": {
    "collapsed": false,
    "pycharm": {
     "name": "#%% md\n"
    }
   }
  },
  {
   "cell_type": "code",
   "execution_count": 4,
   "outputs": [
    {
     "data": {
      "text/plain": "\\gamma",
      "text/latex": "$\\displaystyle \\gamma$"
     },
     "metadata": {},
     "output_type": "display_data"
    }
   ],
   "source": [
    "gamma = symbols(\"\\\\gamma\")\n",
    "display(gamma)"
   ],
   "metadata": {
    "collapsed": false,
    "pycharm": {
     "name": "#%%\n"
    }
   }
  },
  {
   "cell_type": "markdown",
   "source": [
    "So this has latex support for greek symbols.\n",
    "\n",
    "Let's try to decompose some complex expression into real and imaginary parts:"
   ],
   "metadata": {
    "collapsed": false,
    "pycharm": {
     "name": "#%% md\n"
    }
   }
  },
  {
   "cell_type": "code",
   "execution_count": 5,
   "outputs": [
    {
     "data": {
      "text/plain": "(x + I*y)**10",
      "text/latex": "$\\displaystyle \\left(x + i y\\right)^{10}$"
     },
     "metadata": {},
     "output_type": "display_data"
    },
    {
     "data": {
      "text/plain": "10*x**9*y - 120*x**7*y**3 + 252*x**5*y**5 - 120*x**3*y**7 + 10*x*y**9",
      "text/latex": "$\\displaystyle 10 x^{9} y - 120 x^{7} y^{3} + 252 x^{5} y^{5} - 120 x^{3} y^{7} + 10 x y^{9}$"
     },
     "metadata": {},
     "output_type": "display_data"
    },
    {
     "data": {
      "text/plain": "x**10 - 45*x**8*y**2 + 210*x**6*y**4 - 210*x**4*y**6 + 45*x**2*y**8 - y**10",
      "text/latex": "$\\displaystyle x^{10} - 45 x^{8} y^{2} + 210 x^{6} y^{4} - 210 x^{4} y^{6} + 45 x^{2} y^{8} - y^{10}$"
     },
     "metadata": {},
     "output_type": "display_data"
    }
   ],
   "source": [
    "Expr = (x + I*y)**10\n",
    "display(Expr)\n",
    "display(im(Expr))\n",
    "display(re(Expr))"
   ],
   "metadata": {
    "collapsed": false,
    "pycharm": {
     "name": "#%%\n"
    }
   }
  },
  {
   "cell_type": "markdown",
   "source": [
    "Let's try to decompose a Lambda complex function"
   ],
   "metadata": {
    "collapsed": false,
    "pycharm": {
     "name": "#%% md\n"
    }
   }
  },
  {
   "cell_type": "code",
   "execution_count": 6,
   "outputs": [
    {
     "data": {
      "text/plain": "exp(x)*cos(y)",
      "text/latex": "$\\displaystyle e^{x} \\cos{\\left(y \\right)}$"
     },
     "metadata": {},
     "output_type": "display_data"
    },
    {
     "data": {
      "text/plain": "exp(re(z))*sin(im(z))",
      "text/latex": "$\\displaystyle e^{\\operatorname{re}{\\left(z\\right)}} \\sin{\\left(\\operatorname{im}{\\left(z\\right)} \\right)}$"
     },
     "metadata": {},
     "output_type": "display_data"
    }
   ],
   "source": [
    "display(re(Fxn(x, y)))\n",
    "\n",
    "Fxn_Composite = exp(z)\n",
    "display(im(Fxn_Composite))"
   ],
   "metadata": {
    "collapsed": false,
    "pycharm": {
     "name": "#%%\n"
    }
   }
  },
  {
   "cell_type": "markdown",
   "source": [
    "Yep, it's pretty good, so we can deal with complex functions now, let's try to do this.\n"
   ],
   "metadata": {
    "collapsed": false,
    "pycharm": {
     "name": "#%% md\n"
    }
   }
  },
  {
   "cell_type": "markdown",
   "source": [
    "I don't think Sympy supports this well. Let's also check the variable overriding properties. If the definition of a variable got changed, is the expression, or the function is gonna change acoordiningly?"
   ],
   "metadata": {
    "collapsed": false
   }
  },
  {
   "cell_type": "code",
   "execution_count": 7,
   "outputs": [
    {
     "name": "stdout",
     "output_type": "stream",
     "text": [
      "True\n"
     ]
    },
    {
     "data": {
      "text/plain": "0",
      "text/latex": "$\\displaystyle 0$"
     },
     "metadata": {},
     "output_type": "display_data"
    }
   ],
   "source": [
    "z = symbols(\"z\", real=True)\n",
    "print(z.is_real)\n",
    "TestExpr1 = exp(z)\n",
    "display(im(TestExpr1))"
   ],
   "metadata": {
    "collapsed": false,
    "pycharm": {
     "name": "#%%\n"
    }
   }
  },
  {
   "cell_type": "code",
   "execution_count": 8,
   "outputs": [
    {
     "data": {
      "text/plain": "0",
      "text/latex": "$\\displaystyle 0$"
     },
     "metadata": {},
     "output_type": "display_data"
    },
    {
     "name": "stdout",
     "output_type": "stream",
     "text": [
      "None\n",
      "None\n"
     ]
    }
   ],
   "source": [
    "z = symbols(\"z\")  # Attempts to overrides the property of the symbols\n",
    "display(im(TestExpr1))\n",
    "print(z.is_real)\n",
    "print(z.is_imaginary)"
   ],
   "metadata": {
    "collapsed": false,
    "pycharm": {
     "name": "#%%\n"
    }
   }
  },
  {
   "cell_type": "markdown",
   "source": [
    "Redefined symbols with different property is not changing the property of existing expression.\n",
    "\n",
    "Test Expression equivalence in sympy:"
   ],
   "metadata": {
    "collapsed": false,
    "pycharm": {
     "name": "#%% md\n"
    }
   }
  },
  {
   "cell_type": "code",
   "execution_count": 9,
   "outputs": [
    {
     "name": "stdout",
     "output_type": "stream",
     "text": [
      "False\n",
      "0\n"
     ]
    }
   ],
   "source": [
    "TestExpr1 = (x + 1)**2; TestExpr2 = x**2 + 2*x + 1\n",
    "print(TestExpr1 == TestExpr2)\n",
    "print(simplify(TestExpr1 - TestExpr2))"
   ],
   "metadata": {
    "collapsed": false,
    "pycharm": {
     "name": "#%%\n"
    }
   }
  },
  {
   "cell_type": "markdown",
   "source": [
    "Expression comparison needs to take the difference between 2 expression and then simplify the results to make sure wthat it's zero.\n"
   ],
   "metadata": {
    "collapsed": false,
    "pycharm": {
     "name": "#%% md\n"
    }
   }
  },
  {
   "cell_type": "markdown",
   "source": [
    "### Decomposing the complex functions, let's see how good we can do."
   ],
   "metadata": {
    "collapsed": false,
    "pycharm": {
     "name": "#%% md\n"
    }
   }
  },
  {
   "cell_type": "code",
   "source": [
    "z = symbols(\"z\")\n",
    "Expr = z**2\n",
    "display(re(Expr))\n",
    "display(im(Expr))\n",
    "\n",
    "Expr = Expr.subs([(z, x + y*I)])\n",
    "display(Expr)\n",
    "display(re(Expr))\n",
    "display(im(Expr))"
   ],
   "metadata": {
    "collapsed": false,
    "pycharm": {
     "name": "#%%\n"
    }
   },
   "execution_count": 10,
   "outputs": [
    {
     "data": {
      "text/plain": "re(z)**2 - im(z)**2",
      "text/latex": "$\\displaystyle \\left(\\operatorname{re}{\\left(z\\right)}\\right)^{2} - \\left(\\operatorname{im}{\\left(z\\right)}\\right)^{2}$"
     },
     "metadata": {},
     "output_type": "display_data"
    },
    {
     "data": {
      "text/plain": "2*re(z)*im(z)",
      "text/latex": "$\\displaystyle 2 \\operatorname{re}{\\left(z\\right)} \\operatorname{im}{\\left(z\\right)}$"
     },
     "metadata": {},
     "output_type": "display_data"
    },
    {
     "data": {
      "text/plain": "(x + I*y)**2",
      "text/latex": "$\\displaystyle \\left(x + i y\\right)^{2}$"
     },
     "metadata": {},
     "output_type": "display_data"
    },
    {
     "data": {
      "text/plain": "x**2 - y**2",
      "text/latex": "$\\displaystyle x^{2} - y^{2}$"
     },
     "metadata": {},
     "output_type": "display_data"
    },
    {
     "data": {
      "text/plain": "2*x*y",
      "text/latex": "$\\displaystyle 2 x y$"
     },
     "metadata": {},
     "output_type": "display_data"
    }
   ]
  },
  {
   "cell_type": "markdown",
   "source": [
    "### Cauchy Riemann Condition of the Complex Functions\n"
   ],
   "metadata": {
    "collapsed": false,
    "pycharm": {
     "name": "#%% md\n"
    }
   }
  },
  {
   "cell_type": "markdown",
   "source": [
    "Mode 1 construction of the complex function:"
   ],
   "metadata": {
    "collapsed": false,
    "pycharm": {
     "name": "#%% md\n"
    }
   }
  },
  {
   "cell_type": "code",
   "execution_count": 1,
   "outputs": [
    {
     "data": {
      "text/plain": "1",
      "text/latex": "$\\displaystyle 1$"
     },
     "metadata": {},
     "output_type": "display_data"
    },
    {
     "data": {
      "text/plain": "0",
      "text/latex": "$\\displaystyle 0$"
     },
     "metadata": {},
     "output_type": "display_data"
    },
    {
     "data": {
      "text/plain": "0",
      "text/latex": "$\\displaystyle 0$"
     },
     "metadata": {},
     "output_type": "display_data"
    },
    {
     "data": {
      "text/plain": "-1",
      "text/latex": "$\\displaystyle -1$"
     },
     "metadata": {},
     "output_type": "display_data"
    },
    {
     "name": "stdout",
     "output_type": "stream",
     "text": [
      "False\n"
     ]
    }
   ],
   "source": [
    "from sympy_check_hw.complex_function import MyComplexFxn\n",
    "x, y, z = MyComplexFxn.get_vars()\n",
    "TheComplxFxn = MyComplexFxn(x=x, y=y, u=x, v=-y)\n",
    "\n",
    "display(TheComplxFxn.u_x)\n",
    "display(TheComplxFxn.u_y)\n",
    "display(TheComplxFxn.v_x)\n",
    "display(TheComplxFxn.v_y)\n",
    "\n",
    "print(TheComplxFxn.is_cauchy_riemann())"
   ],
   "metadata": {
    "collapsed": false,
    "pycharm": {
     "name": "#%%\n"
    }
   }
  },
  {
   "cell_type": "markdown",
   "source": [
    "Mode 2 construction of the complex function"
   ],
   "metadata": {
    "collapsed": false,
    "pycharm": {
     "name": "#%% md\n"
    }
   }
  },
  {
   "cell_type": "code",
   "execution_count": 2,
   "outputs": [
    {
     "data": {
      "text/plain": "x**2 - y**2",
      "text/latex": "$\\displaystyle x^{2} - y^{2}$"
     },
     "metadata": {},
     "output_type": "display_data"
    },
    {
     "data": {
      "text/plain": "2*x*y",
      "text/latex": "$\\displaystyle 2 x y$"
     },
     "metadata": {},
     "output_type": "display_data"
    },
    {
     "name": "stdout",
     "output_type": "stream",
     "text": [
      "----\n",
      "True\n"
     ]
    },
    {
     "data": {
      "text/plain": "2*x",
      "text/latex": "$\\displaystyle 2 x$"
     },
     "metadata": {},
     "output_type": "display_data"
    },
    {
     "data": {
      "text/plain": "-2*y",
      "text/latex": "$\\displaystyle - 2 y$"
     },
     "metadata": {},
     "output_type": "display_data"
    },
    {
     "data": {
      "text/plain": "2*y",
      "text/latex": "$\\displaystyle 2 y$"
     },
     "metadata": {},
     "output_type": "display_data"
    },
    {
     "data": {
      "text/plain": "2*x",
      "text/latex": "$\\displaystyle 2 x$"
     },
     "metadata": {},
     "output_type": "display_data"
    }
   ],
   "source": [
    "x, y, z = MyComplexFxn.get_vars()\n",
    "TheComplxFxn = MyComplexFxn(z=z, expr=z**2)\n",
    "display(TheComplxFxn.u)\n",
    "display(TheComplxFxn.v)\n",
    "print(\"----\")\n",
    "display(TheComplxFxn.u_x)\n",
    "display(TheComplxFxn.u_y)\n",
    "display(TheComplxFxn.v_x)\n",
    "display(TheComplxFxn.v_y)\n",
    "\n",
    "print(TheComplxFxn.is_cauchy_riemann())\n",
    "\n"
   ],
   "metadata": {
    "collapsed": false,
    "pycharm": {
     "name": "#%%\n"
    }
   }
  }
 ],
 "metadata": {
  "kernelspec": {
   "display_name": "Python 3",
   "language": "python",
   "name": "python3"
  },
  "language_info": {
   "codemirror_mode": {
    "name": "ipython",
    "version": 2
   },
   "file_extension": ".py",
   "mimetype": "text/x-python",
   "name": "python",
   "nbconvert_exporter": "python",
   "pygments_lexer": "ipython2",
   "version": "2.7.6"
  }
 },
 "nbformat": 4,
 "nbformat_minor": 0
}