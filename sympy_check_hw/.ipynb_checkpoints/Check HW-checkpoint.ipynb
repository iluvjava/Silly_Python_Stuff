{
 "cells": [
  {
   "cell_type": "code",
   "execution_count": 20,
   "metadata": {},
   "outputs": [],
   "source": [
    "from sympy import symbols, integrate, cos, sin, pi\n",
    "from sympy.physics.vector import ReferenceFrame, curl"
   ]
  },
  {
   "cell_type": "code",
   "execution_count": 3,
   "metadata": {},
   "outputs": [
    {
     "data": {
      "text/latex": [
       "$\\displaystyle 0$"
      ],
      "text/plain": [
       "0"
      ]
     },
     "execution_count": 3,
     "metadata": {},
     "output_type": "execute_result"
    }
   ],
   "source": [
    "x = symbols(\"x\")\n",
    "integrate(cos(x)*sin(x), (x, 0, 2*pi))"
   ]
  },
  {
   "cell_type": "code",
   "execution_count": 4,
   "metadata": {},
   "outputs": [
    {
     "data": {
      "text/latex": [
       "$\\displaystyle \\frac{4}{3}$"
      ],
      "text/plain": [
       "4/3"
      ]
     },
     "execution_count": 4,
     "metadata": {},
     "output_type": "execute_result"
    }
   ],
   "source": [
    "integrate(sin(x)**3, (x, 0, pi))"
   ]
  },
  {
   "cell_type": "markdown",
   "metadata": {},
   "source": [
    "### Potential and Conservative Vec Field"
   ]
  },
  {
   "cell_type": "markdown",
   "metadata": {},
   "source": [
    "Test if $$ F =\n",
    "\\begin{bmatrix}\n",
    "    x(z + 1) \\\\ y (z + 1) \\\\ -xyz\n",
    "\\end{bmatrix}\n",
    "$$\n",
    "Conservative? \n"
   ]
  },
  {
   "cell_type": "code",
   "execution_count": null,
   "metadata": {},
   "outputs": [],
   "source": [
    "x, y, z = symbols(\"x y z\")\n",
    "F1 = x*(z + 1); F2 = y*(z + 1); F3 = -x*y*z;\n",
    "R = ReferenceFrame(\"R\")\n",
    "Substitutions = [(x, R[0]), (y, R[1]), (z, R[2])]\n",
    "F1_r = F1.subs(Substitutions)*R.x\n",
    "F2_r = F2.subs(Substitutions)*R.y\n",
    "F3_r = F3.subs(Substitutions)*R.z\n",
    "F_r = F1_r + F2_r + F3_r\n",
    "display(F_r)\n",
    "curl(F_r, R)"
   ]
  },
  {
   "cell_type": "markdown",
   "metadata": {},
   "source": [
    "This shit is not conservative. "
   ]
  },
  {
   "cell_type": "markdown",
   "metadata": {},
   "source": [
    "Test if $$\n",
    "\\begin{bmatrix}\n",
    "    y + z\\cos(xz)\n",
    "    \\\\\n",
    "    x \n",
    "    \\\\\n",
    "    x\\cos(xz)\n",
    "\\end{bmatrix}\n",
    "$$\n",
    "is conservative, and then find the potential if it is. "
   ]
  },
  {
   "cell_type": "code",
   "execution_count": 28,
   "metadata": {},
   "outputs": [
    {
     "data": {
      "text/latex": [
       "$\\displaystyle (R_{y} + R_{z} \\operatorname{cos}\\left(R_{x} R_{z}\\right))\\mathbf{\\hat{r}_x} + R_{x}\\mathbf{\\hat{r}_y} + R_{x} \\operatorname{cos}\\left(R_{x} R_{z}\\right)\\mathbf{\\hat{r}_z}$"
      ],
      "text/plain": [
       "(R_y + R_z*cos(R_x*R_z))*R.x + R_x*R.y + R_x*cos(R_x*R_z)*R.z"
      ]
     },
     "metadata": {},
     "output_type": "display_data"
    },
    {
     "data": {
      "text/latex": [
       "$\\displaystyle 0$"
      ],
      "text/plain": [
       "0"
      ]
     },
     "execution_count": 28,
     "metadata": {},
     "output_type": "execute_result"
    }
   ],
   "source": [
    "x, y, z = symbols(\"x y z\")\n",
    "F1 = y + z*cos(x*z); F2 = x; F3 = x*cos(x*z);\n",
    "R = ReferenceFrame(\"R\")\n",
    "Substitutions = [(x, R[0]), (y, R[1]), (z, R[2])]\n",
    "F1_r = F1.subs(Substitutions)*R.x\n",
    "F2_r = F2.subs(Substitutions)*R.y\n",
    "F3_r = F3.subs(Substitutions)*R.z\n",
    "F_r = F1_r + F2_r + F3_r\n",
    "display(F_r)\n",
    "curl(F_r, R)\n"
   ]
  },
  {
   "cell_type": "markdown",
   "metadata": {},
   "source": [
    "Yep, this shit is conservative. Let's find the potential of the vector field: "
   ]
  }
 ],
 "metadata": {
  "kernelspec": {
   "display_name": "Python 3",
   "language": "python",
   "name": "python3"
  },
  "language_info": {
   "codemirror_mode": {
    "name": "ipython",
    "version": 3
   },
   "file_extension": ".py",
   "mimetype": "text/x-python",
   "name": "python",
   "nbconvert_exporter": "python",
   "pygments_lexer": "ipython3",
   "version": "3.7.7"
  }
 },
 "nbformat": 4,
 "nbformat_minor": 4
}
