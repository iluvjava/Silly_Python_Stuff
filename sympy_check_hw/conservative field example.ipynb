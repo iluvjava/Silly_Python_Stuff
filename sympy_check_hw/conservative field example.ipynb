{
 "cells": [
  {
   "cell_type": "markdown",
   "metadata": {
    "collapsed": true,
    "pycharm": {
     "is_executing": true,
     "name": "#%% md\n"
    }
   },
   "source": [
    "Ok here we are going to figure out something about this vector field:\n",
    "\n",
    "$\n",
    "\\vec{F} = w\\times r \\text{ where } \\vec{r} = \\begin{bmatrix}\n",
    "    x\\\\ y \\\\z\n",
    "\\end{bmatrix}\n",
    "$\n",
    "\n",
    "So, this vector field is conservative."
   ]
  },
  {
   "cell_type": "code",
   "execution_count": 17,
   "outputs": [],
   "source": [
    "from sympy import symbols, integrate, \\\n",
    "    cos, sin, pi, diff, Matrix, simplify, factor, asinh, acosh, sqrt\n",
    "from sympy.physics.vector import ReferenceFrame, curl, gradient, divergence\n",
    "from sympy.vector import CoordSys3D"
   ],
   "metadata": {
    "collapsed": false,
    "pycharm": {
     "name": "#%%\n"
    }
   }
  },
  {
   "cell_type": "markdown",
   "source": [
    "If the vector field is conservative, then we will have to see the curl of the vector field"
   ],
   "metadata": {
    "collapsed": false,
    "pycharm": {
     "name": "#%% md\n"
    }
   }
  },
  {
   "cell_type": "code",
   "execution_count": 11,
   "outputs": [
    {
     "data": {
      "text/plain": "(-R_y*w3 + R_z*w2)*R.x + (R_x*w3 - R_z*w1)*R.y + (-R_x*w2 + R_y*w1)*R.z",
      "text/latex": "$\\displaystyle (- R_{y} w_{3} + R_{z} w_{2})\\mathbf{\\hat{r}_x} + (R_{x} w_{3} - R_{z} w_{1})\\mathbf{\\hat{r}_y} + (- R_{x} w_{2} + R_{y} w_{1})\\mathbf{\\hat{r}_z}$"
     },
     "metadata": {},
     "output_type": "display_data"
    },
    {
     "data": {
      "text/plain": "2*w1*R.x + 2*w2*R.y + 2*w3*R.z",
      "text/latex": "$\\displaystyle 2 w_{1}\\mathbf{\\hat{r}_x} + 2 w_{2}\\mathbf{\\hat{r}_y} + 2 w_{3}\\mathbf{\\hat{r}_z}$"
     },
     "execution_count": 11,
     "metadata": {},
     "output_type": "execute_result"
    }
   ],
   "source": [
    "R = ReferenceFrame(\"R\")\n",
    "w1, w2, w3 = symbols(\"w1 w2 w3\")\n",
    "w = w1*R.x + w2*R.y + w3*R.z\n",
    "F = w.cross(R[0]*R.x + R[1]*R.y + R[2]*R.z)\n",
    "display(F)\n",
    "curl(F, R)"
   ],
   "metadata": {
    "collapsed": false,
    "pycharm": {
     "name": "#%%\n"
    }
   }
  },
  {
   "cell_type": "markdown",
   "source": [
    "You know what the field is not conservative at all, but the field is divergence free, so it's like:"
   ],
   "metadata": {
    "collapsed": false,
    "pycharm": {
     "name": "#%% md\n"
    }
   }
  },
  {
   "cell_type": "code",
   "execution_count": 14,
   "outputs": [
    {
     "data": {
      "text/plain": "0",
      "text/latex": "$\\displaystyle 0$"
     },
     "execution_count": 14,
     "metadata": {},
     "output_type": "execute_result"
    }
   ],
   "source": [
    "divergence(F, R)"
   ],
   "metadata": {
    "collapsed": false,
    "pycharm": {
     "name": "#%%\n"
    }
   }
  },
  {
   "cell_type": "markdown",
   "source": [
    "So it's actually modeling incompressible fluid.\n",
    "\n",
    "And this is an irrelavent computations:"
   ],
   "metadata": {
    "collapsed": false,
    "pycharm": {
     "name": "#%% md\n"
    }
   }
  },
  {
   "cell_type": "code",
   "execution_count": 19,
   "outputs": [
    {
     "data": {
      "text/plain": "7.668386521273071"
     },
     "execution_count": 19,
     "metadata": {},
     "output_type": "execute_result"
    }
   ],
   "source": [
    "Val = 1/2*(asinh(-3) - asinh(3)) + 3*sqrt(10)\n",
    "float(Val)"
   ],
   "metadata": {
    "collapsed": false,
    "pycharm": {
     "name": "#%%\n"
    }
   }
  }
 ],
 "metadata": {
  "kernelspec": {
   "display_name": "Python 3",
   "language": "python",
   "name": "python3"
  },
  "language_info": {
   "codemirror_mode": {
    "name": "ipython",
    "version": 2
   },
   "file_extension": ".py",
   "mimetype": "text/x-python",
   "name": "python",
   "nbconvert_exporter": "python",
   "pygments_lexer": "ipython2",
   "version": "2.7.6"
  }
 },
 "nbformat": 4,
 "nbformat_minor": 0
}